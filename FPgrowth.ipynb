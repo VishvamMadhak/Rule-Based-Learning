{
 "cells": [
  {
   "cell_type": "code",
   "execution_count": 2,
   "id": "ccf9818a",
   "metadata": {},
   "outputs": [],
   "source": [
    "import numpy as np\n",
    "import pandas as pd\n",
    "import matplotlib.pyplot as plt\n",
    "import seaborn as sns\n",
    "import pyfpgrowth as fp\n",
    "import warnings\n",
    "warnings.simplefilter('ignore')"
   ]
  },
  {
   "cell_type": "code",
   "execution_count": null,
   "id": "6263eb23",
   "metadata": {},
   "outputs": [],
   "source": [
    "data = pd.read_excel('Online Retail.xlsx')\n",
    "data"
   ]
  },
  {
   "cell_type": "code",
   "execution_count": null,
   "id": "63329864",
   "metadata": {},
   "outputs": [],
   "source": [
    "data['Description'].value_counts()"
   ]
  },
  {
   "cell_type": "code",
   "execution_count": 5,
   "id": "9d58d349",
   "metadata": {},
   "outputs": [],
   "source": [
    "transactions_france=data[['InvoiceNo','Description','Quantity']].loc[data['Country']=='France']"
   ]
  },
  {
   "cell_type": "code",
   "execution_count": null,
   "id": "65c35a48",
   "metadata": {},
   "outputs": [],
   "source": [
    "transactions_france"
   ]
  },
  {
   "cell_type": "code",
   "execution_count": null,
   "id": "0302d21d",
   "metadata": {},
   "outputs": [],
   "source": [
    "transactions_france.sort_values('Quantity')"
   ]
  },
  {
   "cell_type": "code",
   "execution_count": 8,
   "id": "ab9cd346",
   "metadata": {},
   "outputs": [],
   "source": [
    "transactions_france=transactions_france.loc[transactions_france['Quantity']>0]"
   ]
  },
  {
   "cell_type": "code",
   "execution_count": null,
   "id": "5aa0652f",
   "metadata": {},
   "outputs": [],
   "source": [
    "transactions_france"
   ]
  },
  {
   "cell_type": "code",
   "execution_count": null,
   "id": "4097b2b7",
   "metadata": {},
   "outputs": [],
   "source": [
    "transactions_france.groupby(['InvoiceNo','Description']).agg({\"Quantity\": \"sum\"}).head(20)"
   ]
  },
  {
   "cell_type": "code",
   "execution_count": 11,
   "id": "64179114",
   "metadata": {},
   "outputs": [],
   "source": [
    "transactions_france['Quantity']=1"
   ]
  },
  {
   "cell_type": "code",
   "execution_count": null,
   "id": "d282ae5f",
   "metadata": {},
   "outputs": [],
   "source": [
    "transactions_france"
   ]
  },
  {
   "cell_type": "code",
   "execution_count": 13,
   "id": "683e090f",
   "metadata": {},
   "outputs": [],
   "source": [
    "table=pd.pivot_table(transactions_france,values='Quantity',index=['InvoiceNo'],columns=['Description'])"
   ]
  },
  {
   "cell_type": "code",
   "execution_count": null,
   "id": "5052b11c",
   "metadata": {},
   "outputs": [],
   "source": [
    "table"
   ]
  },
  {
   "cell_type": "code",
   "execution_count": 15,
   "id": "01a2f87d",
   "metadata": {},
   "outputs": [],
   "source": [
    "t=[]\n",
    "for i in range(0,392):\n",
    "   t.append([table.columns[j] for j in range(0,1563) if table.iloc[i][j]==1]) "
   ]
  },
  {
   "cell_type": "code",
   "execution_count": null,
   "id": "fefafd5d",
   "metadata": {},
   "outputs": [],
   "source": [
    "t"
   ]
  },
  {
   "attachments": {},
   "cell_type": "markdown",
   "id": "10247ef8",
   "metadata": {},
   "source": [
    "Patterns with minimum threshold support count=10"
   ]
  },
  {
   "cell_type": "code",
   "execution_count": null,
   "id": "5aafee8b",
   "metadata": {},
   "outputs": [],
   "source": [
    "patterns=fp.find_frequent_patterns(t,10)\n",
    "patterns"
   ]
  },
  {
   "attachments": {},
   "cell_type": "markdown",
   "id": "2a6b9835",
   "metadata": {},
   "source": [
    "Rules with minimum threshold confidence=0.7"
   ]
  },
  {
   "cell_type": "code",
   "execution_count": null,
   "id": "d88c6a6a",
   "metadata": {},
   "outputs": [],
   "source": [
    "rules=fp.generate_association_rules(patterns,0.7)\n",
    "rules"
   ]
  },
  {
   "cell_type": "code",
   "execution_count": null,
   "id": "a144456d",
   "metadata": {},
   "outputs": [],
   "source": [
    "def inspect(rules):\n",
    "    lhs = [rule for rule in rules]\n",
    "    rhs = [rules[rule][0] for rule in rules]\n",
    "    supports = [rules[rule][1] for rule in rules]\n",
    "    return list(zip(lhs, rhs, supports))\n",
    "\n",
    "resultsinDataFrame= pd.DataFrame(inspect(rules), columns=['Left Hand Side', 'Right Hand Side', 'Confidence'])\n",
    "resultsinDataFrame"
   ]
  },
  {
   "cell_type": "code",
   "execution_count": 20,
   "id": "29c78feb",
   "metadata": {},
   "outputs": [
    {
     "data": {
      "text/html": [
       "<div>\n",
       "<style scoped>\n",
       "    .dataframe tbody tr th:only-of-type {\n",
       "        vertical-align: middle;\n",
       "    }\n",
       "\n",
       "    .dataframe tbody tr th {\n",
       "        vertical-align: top;\n",
       "    }\n",
       "\n",
       "    .dataframe thead th {\n",
       "        text-align: right;\n",
       "    }\n",
       "</style>\n",
       "<table border=\"1\" class=\"dataframe\">\n",
       "  <thead>\n",
       "    <tr style=\"text-align: right;\">\n",
       "      <th></th>\n",
       "      <th>Left Hand Side</th>\n",
       "      <th>Right Hand Side</th>\n",
       "      <th>Confidence</th>\n",
       "    </tr>\n",
       "  </thead>\n",
       "  <tbody>\n",
       "    <tr>\n",
       "      <th>18</th>\n",
       "      <td>(CARD DOLLY GIRL ,)</td>\n",
       "      <td>(SPACEBOY BIRTHDAY CARD,)</td>\n",
       "      <td>0.916667</td>\n",
       "    </tr>\n",
       "    <tr>\n",
       "      <th>25</th>\n",
       "      <td>(POPPY'S PLAYHOUSE BATHROOM,)</td>\n",
       "      <td>(POPPY'S PLAYHOUSE BEDROOM , POPPY'S PLAYHOUSE...</td>\n",
       "      <td>0.769231</td>\n",
       "    </tr>\n",
       "    <tr>\n",
       "      <th>26</th>\n",
       "      <td>(POPPY'S PLAYHOUSE BATHROOM, POPPY'S PLAYHOUSE...</td>\n",
       "      <td>(POPPY'S PLAYHOUSE KITCHEN,)</td>\n",
       "      <td>1.000000</td>\n",
       "    </tr>\n",
       "    <tr>\n",
       "      <th>27</th>\n",
       "      <td>(POPPY'S PLAYHOUSE BATHROOM, POPPY'S PLAYHOUSE...</td>\n",
       "      <td>(POPPY'S PLAYHOUSE BEDROOM ,)</td>\n",
       "      <td>0.833333</td>\n",
       "    </tr>\n",
       "    <tr>\n",
       "      <th>32</th>\n",
       "      <td>(PICNIC BOXES SET OF 3 RETROSPOT ,)</td>\n",
       "      <td>(ROUND SNACK BOXES SET OF 4 FRUITS ,)</td>\n",
       "      <td>0.769231</td>\n",
       "    </tr>\n",
       "    <tr>\n",
       "      <th>...</th>\n",
       "      <td>...</td>\n",
       "      <td>...</td>\n",
       "      <td>...</td>\n",
       "    </tr>\n",
       "    <tr>\n",
       "      <th>547</th>\n",
       "      <td>(PLASTERS IN TIN CIRCUS PARADE , POSTAGE, ROUN...</td>\n",
       "      <td>(PLASTERS IN TIN SPACEBOY,)</td>\n",
       "      <td>0.705882</td>\n",
       "    </tr>\n",
       "    <tr>\n",
       "      <th>550</th>\n",
       "      <td>(PLASTERS IN TIN CIRCUS PARADE , PLASTERS IN T...</td>\n",
       "      <td>(PLASTERS IN TIN WOODLAND ANIMALS,)</td>\n",
       "      <td>0.724138</td>\n",
       "    </tr>\n",
       "    <tr>\n",
       "      <th>552</th>\n",
       "      <td>(PLASTERS IN TIN SPACEBOY, POSTAGE)</td>\n",
       "      <td>(PLASTERS IN TIN WOODLAND ANIMALS,)</td>\n",
       "      <td>0.733333</td>\n",
       "    </tr>\n",
       "    <tr>\n",
       "      <th>553</th>\n",
       "      <td>(PLASTERS IN TIN CIRCUS PARADE , SET/6 RED SPO...</td>\n",
       "      <td>(PLASTERS IN TIN WOODLAND ANIMALS,)</td>\n",
       "      <td>0.833333</td>\n",
       "    </tr>\n",
       "    <tr>\n",
       "      <th>558</th>\n",
       "      <td>(LUNCH BOX WITH CUTLERY RETROSPOT , PLASTERS I...</td>\n",
       "      <td>(PLASTERS IN TIN CIRCUS PARADE ,)</td>\n",
       "      <td>0.833333</td>\n",
       "    </tr>\n",
       "  </tbody>\n",
       "</table>\n",
       "<p>296 rows × 3 columns</p>\n",
       "</div>"
      ],
      "text/plain": [
       "                                        Left Hand Side  \\\n",
       "18                                 (CARD DOLLY GIRL ,)   \n",
       "25                       (POPPY'S PLAYHOUSE BATHROOM,)   \n",
       "26   (POPPY'S PLAYHOUSE BATHROOM, POPPY'S PLAYHOUSE...   \n",
       "27   (POPPY'S PLAYHOUSE BATHROOM, POPPY'S PLAYHOUSE...   \n",
       "32                 (PICNIC BOXES SET OF 3 RETROSPOT ,)   \n",
       "..                                                 ...   \n",
       "547  (PLASTERS IN TIN CIRCUS PARADE , POSTAGE, ROUN...   \n",
       "550  (PLASTERS IN TIN CIRCUS PARADE , PLASTERS IN T...   \n",
       "552                (PLASTERS IN TIN SPACEBOY, POSTAGE)   \n",
       "553  (PLASTERS IN TIN CIRCUS PARADE , SET/6 RED SPO...   \n",
       "558  (LUNCH BOX WITH CUTLERY RETROSPOT , PLASTERS I...   \n",
       "\n",
       "                                       Right Hand Side  Confidence  \n",
       "18                           (SPACEBOY BIRTHDAY CARD,)    0.916667  \n",
       "25   (POPPY'S PLAYHOUSE BEDROOM , POPPY'S PLAYHOUSE...    0.769231  \n",
       "26                        (POPPY'S PLAYHOUSE KITCHEN,)    1.000000  \n",
       "27                       (POPPY'S PLAYHOUSE BEDROOM ,)    0.833333  \n",
       "32               (ROUND SNACK BOXES SET OF 4 FRUITS ,)    0.769231  \n",
       "..                                                 ...         ...  \n",
       "547                        (PLASTERS IN TIN SPACEBOY,)    0.705882  \n",
       "550                (PLASTERS IN TIN WOODLAND ANIMALS,)    0.724138  \n",
       "552                (PLASTERS IN TIN WOODLAND ANIMALS,)    0.733333  \n",
       "553                (PLASTERS IN TIN WOODLAND ANIMALS,)    0.833333  \n",
       "558                  (PLASTERS IN TIN CIRCUS PARADE ,)    0.833333  \n",
       "\n",
       "[296 rows x 3 columns]"
      ]
     },
     "execution_count": 20,
     "metadata": {},
     "output_type": "execute_result"
    }
   ],
   "source": [
    "resultsinDataFrame[resultsinDataFrame['Right Hand Side']!=('POSTAGE',)]"
   ]
  }
 ],
 "metadata": {
  "kernelspec": {
   "display_name": "Python 3 (ipykernel)",
   "language": "python",
   "name": "python3"
  },
  "language_info": {
   "codemirror_mode": {
    "name": "ipython",
    "version": 3
   },
   "file_extension": ".py",
   "mimetype": "text/x-python",
   "name": "python",
   "nbconvert_exporter": "python",
   "pygments_lexer": "ipython3",
   "version": "3.9.12"
  },
  "vscode": {
   "interpreter": {
    "hash": "a5e2940609b4beeecea3a57c36702139d4feb5f2786223d248b35e487576e04a"
   }
  }
 },
 "nbformat": 4,
 "nbformat_minor": 5
}
